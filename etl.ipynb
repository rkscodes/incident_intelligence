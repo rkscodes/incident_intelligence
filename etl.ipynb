{
 "cells": [
  {
   "cell_type": "code",
   "execution_count": 1,
   "id": "6948a66b-76f4-4d72-9b94-b85852df4e2e",
   "metadata": {
    "collapsed": true,
    "jupyter": {
     "outputs_hidden": true
    },
    "tags": []
   },
   "outputs": [
    {
     "name": "stdout",
     "output_type": "stream",
     "text": [
      "Collecting pandas\n",
      "  Downloading pandas-2.0.0-cp39-cp39-manylinux_2_17_x86_64.manylinux2014_x86_64.whl (12.4 MB)\n",
      "\u001b[2K     \u001b[90m━━━━━━━━━━━━━━━━━━━━━━━━━━━━━━━━━━━━━━━━\u001b[0m \u001b[32m12.4/12.4 MB\u001b[0m \u001b[31m80.0 MB/s\u001b[0m eta \u001b[36m0:00:00\u001b[0m00:01\u001b[0m00:01\u001b[0m\n",
      "\u001b[?25hRequirement already satisfied: python-dateutil>=2.8.2 in /home/ram/miniconda3/lib/python3.9/site-packages (from pandas) (2.8.2)\n",
      "Requirement already satisfied: tzdata>=2022.1 in /home/ram/miniconda3/lib/python3.9/site-packages (from pandas) (2023.3)\n",
      "Requirement already satisfied: pytz>=2020.1 in /home/ram/miniconda3/lib/python3.9/site-packages (from pandas) (2023.3)\n",
      "Collecting numpy>=1.20.3\n",
      "  Downloading numpy-1.24.2-cp39-cp39-manylinux_2_17_x86_64.manylinux2014_x86_64.whl (17.3 MB)\n",
      "\u001b[2K     \u001b[90m━━━━━━━━━━━━━━━━━━━━━━━━━━━━━━━━━━━━━━━━\u001b[0m \u001b[32m17.3/17.3 MB\u001b[0m \u001b[31m67.6 MB/s\u001b[0m eta \u001b[36m0:00:00\u001b[0m00:01\u001b[0m00:01\u001b[0m\n",
      "\u001b[?25hRequirement already satisfied: six>=1.5 in /home/ram/miniconda3/lib/python3.9/site-packages (from python-dateutil>=2.8.2->pandas) (1.16.0)\n",
      "Installing collected packages: numpy, pandas\n",
      "Successfully installed numpy-1.24.2 pandas-2.0.0\n"
     ]
    }
   ],
   "source": [
    "!pip install pandas"
   ]
  },
  {
   "cell_type": "code",
   "execution_count": 2,
   "id": "1a26df6c-ba03-4990-ae07-53683a76329c",
   "metadata": {
    "tags": []
   },
   "outputs": [],
   "source": [
    "import pandas as pd \n",
    "from sodapy import Socrata"
   ]
  },
  {
   "cell_type": "code",
   "execution_count": 3,
   "id": "e77b1088-1194-4f26-9439-6c93f3eae8ec",
   "metadata": {
    "tags": []
   },
   "outputs": [
    {
     "name": "stderr",
     "output_type": "stream",
     "text": [
      "WARNING:root:Requests made without an app_token will be subject to strict throttling limits.\n"
     ]
    }
   ],
   "source": [
    "client = Socrata(\"data.sfgov.org\", None)"
   ]
  },
  {
   "cell_type": "code",
   "execution_count": 4,
   "id": "97ae9da1-ec8b-4224-a4c3-d1d8a492f376",
   "metadata": {
    "tags": []
   },
   "outputs": [],
   "source": [
    "results = client.get(\"wg3w-h783\", limit=1000, offset= 0)"
   ]
  },
  {
   "cell_type": "code",
   "execution_count": 83,
   "id": "43ec19d6-1241-4c58-823d-670a4f162a00",
   "metadata": {
    "tags": []
   },
   "outputs": [],
   "source": [
    "condition = \"\"\"\n",
    "report_datetime >= '2023-01-01T00:01:00.000' \n",
    "AND\n",
    "report_datetime <= '2023-01-02T00:01:00.000'\n",
    "\"\"\""
   ]
  },
  {
   "cell_type": "code",
   "execution_count": 5,
   "id": "6b7a91fc-623c-44c8-914f-edfa9f9b322e",
   "metadata": {
    "tags": []
   },
   "outputs": [
    {
     "data": {
      "text/plain": [
       "0"
      ]
     },
     "execution_count": 5,
     "metadata": {},
     "output_type": "execute_result"
    }
   ],
   "source": [
    "# This would create offset.txt file to keep record of # processed rows \n",
    "\n",
    "offset = ''\n",
    "try:\n",
    "    with open(\"offset.txt\", \"r\") as f:\n",
    "        offset = f.readline()\n",
    "except FileNotFoundError:\n",
    "    with open(\"offset.txt\", \"w+\") as f:\n",
    "        f.write(\"0\")\n",
    "        f.seek(0)\n",
    "        offset = f.readline()\n",
    "        \n",
    "offset = int(offset)\n",
    "offset"
   ]
  },
  {
   "cell_type": "code",
   "execution_count": 6,
   "id": "79bc379f-53dc-4dbb-9aa0-7dc978f5eaa4",
   "metadata": {
    "tags": []
   },
   "outputs": [],
   "source": [
    "records = client.get(\"wg3w-h783\", select=\"count(*)\")"
   ]
  },
  {
   "cell_type": "code",
   "execution_count": 7,
   "id": "d4e5c71e-658f-4acc-8407-96e5cc785f3f",
   "metadata": {
    "tags": []
   },
   "outputs": [],
   "source": [
    "total_no_of_records = records[0]['count']"
   ]
  },
  {
   "cell_type": "code",
   "execution_count": 8,
   "id": "eab8461e-09e9-4a3c-ae72-d8075c656f6b",
   "metadata": {
    "tags": []
   },
   "outputs": [
    {
     "data": {
      "text/plain": [
       "713737"
      ]
     },
     "execution_count": 8,
     "metadata": {},
     "output_type": "execute_result"
    }
   ],
   "source": [
    "total_no_of_records = int(total_no_of_records)\n",
    "total_no_of_records"
   ]
  },
  {
   "cell_type": "code",
   "execution_count": 9,
   "id": "651581a1-7aea-4f7a-bcfb-f82b9688ec02",
   "metadata": {
    "tags": []
   },
   "outputs": [],
   "source": [
    "blob = pd.DataFrame()"
   ]
  },
  {
   "cell_type": "code",
   "execution_count": 10,
   "id": "504cee5e-04fd-4f59-bc31-11a8c4d060df",
   "metadata": {
    "tags": []
   },
   "outputs": [],
   "source": [
    "while total_no_of_records != offset: \n",
    "    results = client.get(\"wg3w-h783\", offset=offset, limit=50000)\n",
    "    results_df = pd.DataFrame.from_records(results)\n",
    "\n",
    "    # if blob.empty: \n",
    "    #     blob = results_df\n",
    "    # else: \n",
    "    #     blob = blob.append(results_df, ignore_index=True)\n",
    "\n",
    "    blob = pd.concat([results_df, blob])\n",
    "\n",
    "    offset += len(results_df)\n",
    "    offset\n",
    "\n",
    "    with open(\"offset.txt\", \"w+\") as f: \n",
    "        f.write(str(offset))"
   ]
  },
  {
   "cell_type": "code",
   "execution_count": 15,
   "id": "338e5c73-e389-424f-aa8d-76307bb66566",
   "metadata": {
    "tags": []
   },
   "outputs": [
    {
     "data": {
      "text/plain": [
       "(713737, 34)"
      ]
     },
     "execution_count": 15,
     "metadata": {},
     "output_type": "execute_result"
    }
   ],
   "source": [
    "blob.shape"
   ]
  },
  {
   "cell_type": "code",
   "execution_count": 16,
   "id": "60c52129-45a0-4bbf-8b65-2a4108749db9",
   "metadata": {
    "tags": []
   },
   "outputs": [
    {
     "data": {
      "text/html": [
       "<div>\n",
       "<style scoped>\n",
       "    .dataframe tbody tr th:only-of-type {\n",
       "        vertical-align: middle;\n",
       "    }\n",
       "\n",
       "    .dataframe tbody tr th {\n",
       "        vertical-align: top;\n",
       "    }\n",
       "\n",
       "    .dataframe thead th {\n",
       "        text-align: right;\n",
       "    }\n",
       "</style>\n",
       "<table border=\"1\" class=\"dataframe\">\n",
       "  <thead>\n",
       "    <tr style=\"text-align: right;\">\n",
       "      <th></th>\n",
       "      <th>incident_datetime</th>\n",
       "      <th>incident_date</th>\n",
       "      <th>incident_time</th>\n",
       "      <th>incident_year</th>\n",
       "      <th>incident_day_of_week</th>\n",
       "      <th>report_datetime</th>\n",
       "      <th>row_id</th>\n",
       "      <th>incident_id</th>\n",
       "      <th>incident_number</th>\n",
       "      <th>report_type_code</th>\n",
       "      <th>...</th>\n",
       "      <th>latitude</th>\n",
       "      <th>longitude</th>\n",
       "      <th>point</th>\n",
       "      <th>:@computed_region_jwn9_ihcz</th>\n",
       "      <th>:@computed_region_h4ep_8xdi</th>\n",
       "      <th>:@computed_region_26cr_cadq</th>\n",
       "      <th>:@computed_region_qgnn_b9vv</th>\n",
       "      <th>:@computed_region_n4xg_c4py</th>\n",
       "      <th>:@computed_region_nqbw_i6c3</th>\n",
       "      <th>:@computed_region_jg9y_a9du</th>\n",
       "    </tr>\n",
       "  </thead>\n",
       "  <tbody>\n",
       "    <tr>\n",
       "      <th>count</th>\n",
       "      <td>1000</td>\n",
       "      <td>1000</td>\n",
       "      <td>1000</td>\n",
       "      <td>1000</td>\n",
       "      <td>1000</td>\n",
       "      <td>1000</td>\n",
       "      <td>1000</td>\n",
       "      <td>1000</td>\n",
       "      <td>1000</td>\n",
       "      <td>1000</td>\n",
       "      <td>...</td>\n",
       "      <td>558</td>\n",
       "      <td>558</td>\n",
       "      <td>558</td>\n",
       "      <td>550</td>\n",
       "      <td>56</td>\n",
       "      <td>558</td>\n",
       "      <td>558</td>\n",
       "      <td>60</td>\n",
       "      <td>109</td>\n",
       "      <td>6</td>\n",
       "    </tr>\n",
       "    <tr>\n",
       "      <th>unique</th>\n",
       "      <td>978</td>\n",
       "      <td>545</td>\n",
       "      <td>426</td>\n",
       "      <td>6</td>\n",
       "      <td>7</td>\n",
       "      <td>990</td>\n",
       "      <td>1000</td>\n",
       "      <td>999</td>\n",
       "      <td>997</td>\n",
       "      <td>4</td>\n",
       "      <td>...</td>\n",
       "      <td>465</td>\n",
       "      <td>465</td>\n",
       "      <td>465</td>\n",
       "      <td>97</td>\n",
       "      <td>1</td>\n",
       "      <td>11</td>\n",
       "      <td>10</td>\n",
       "      <td>1</td>\n",
       "      <td>5</td>\n",
       "      <td>1</td>\n",
       "    </tr>\n",
       "    <tr>\n",
       "      <th>top</th>\n",
       "      <td>2021-11-23T13:00:00.000</td>\n",
       "      <td>2021-11-23T00:00:00.000</td>\n",
       "      <td>00:00</td>\n",
       "      <td>2021</td>\n",
       "      <td>Saturday</td>\n",
       "      <td>2021-11-23T13:00:00.000</td>\n",
       "      <td>108341406374</td>\n",
       "      <td>1057398</td>\n",
       "      <td>210497265</td>\n",
       "      <td>II</td>\n",
       "      <td>...</td>\n",
       "      <td>37.7751608100771</td>\n",
       "      <td>-122.40363551943442</td>\n",
       "      <td>{'type': 'Point', 'coordinates': [-122.4036355...</td>\n",
       "      <td>32</td>\n",
       "      <td>1</td>\n",
       "      <td>10</td>\n",
       "      <td>6</td>\n",
       "      <td>1</td>\n",
       "      <td>3</td>\n",
       "      <td>1</td>\n",
       "    </tr>\n",
       "    <tr>\n",
       "      <th>freq</th>\n",
       "      <td>6</td>\n",
       "      <td>18</td>\n",
       "      <td>39</td>\n",
       "      <td>569</td>\n",
       "      <td>154</td>\n",
       "      <td>6</td>\n",
       "      <td>1</td>\n",
       "      <td>2</td>\n",
       "      <td>2</td>\n",
       "      <td>728</td>\n",
       "      <td>...</td>\n",
       "      <td>7</td>\n",
       "      <td>7</td>\n",
       "      <td>7</td>\n",
       "      <td>50</td>\n",
       "      <td>56</td>\n",
       "      <td>113</td>\n",
       "      <td>88</td>\n",
       "      <td>60</td>\n",
       "      <td>49</td>\n",
       "      <td>6</td>\n",
       "    </tr>\n",
       "  </tbody>\n",
       "</table>\n",
       "<p>4 rows × 34 columns</p>\n",
       "</div>"
      ],
      "text/plain": [
       "              incident_datetime            incident_date incident_time   \n",
       "count                      1000                     1000          1000  \\\n",
       "unique                      978                      545           426   \n",
       "top     2021-11-23T13:00:00.000  2021-11-23T00:00:00.000         00:00   \n",
       "freq                          6                       18            39   \n",
       "\n",
       "       incident_year incident_day_of_week          report_datetime   \n",
       "count           1000                 1000                     1000  \\\n",
       "unique             6                    7                      990   \n",
       "top             2021             Saturday  2021-11-23T13:00:00.000   \n",
       "freq             569                  154                        6   \n",
       "\n",
       "              row_id incident_id incident_number report_type_code  ...   \n",
       "count           1000        1000            1000             1000  ...  \\\n",
       "unique          1000         999             997                4  ...   \n",
       "top     108341406374     1057398       210497265               II  ...   \n",
       "freq               1           2               2              728  ...   \n",
       "\n",
       "                latitude            longitude   \n",
       "count                558                  558  \\\n",
       "unique               465                  465   \n",
       "top     37.7751608100771  -122.40363551943442   \n",
       "freq                   7                    7   \n",
       "\n",
       "                                                    point   \n",
       "count                                                 558  \\\n",
       "unique                                                465   \n",
       "top     {'type': 'Point', 'coordinates': [-122.4036355...   \n",
       "freq                                                    7   \n",
       "\n",
       "       :@computed_region_jwn9_ihcz :@computed_region_h4ep_8xdi   \n",
       "count                          550                          56  \\\n",
       "unique                          97                           1   \n",
       "top                             32                           1   \n",
       "freq                            50                          56   \n",
       "\n",
       "       :@computed_region_26cr_cadq :@computed_region_qgnn_b9vv   \n",
       "count                          558                         558  \\\n",
       "unique                          11                          10   \n",
       "top                             10                           6   \n",
       "freq                           113                          88   \n",
       "\n",
       "       :@computed_region_n4xg_c4py :@computed_region_nqbw_i6c3   \n",
       "count                           60                         109  \\\n",
       "unique                           1                           5   \n",
       "top                              1                           3   \n",
       "freq                            60                          49   \n",
       "\n",
       "       :@computed_region_jg9y_a9du  \n",
       "count                            6  \n",
       "unique                           1  \n",
       "top                              1  \n",
       "freq                             6  \n",
       "\n",
       "[4 rows x 34 columns]"
      ]
     },
     "execution_count": 16,
     "metadata": {},
     "output_type": "execute_result"
    }
   ],
   "source": [
    "blob.head(1000).describe()"
   ]
  },
  {
   "cell_type": "code",
   "execution_count": 17,
   "id": "01b07800-9b18-4f72-9670-384eee1b19ba",
   "metadata": {
    "tags": []
   },
   "outputs": [
    {
     "data": {
      "text/html": [
       "<div>\n",
       "<style scoped>\n",
       "    .dataframe tbody tr th:only-of-type {\n",
       "        vertical-align: middle;\n",
       "    }\n",
       "\n",
       "    .dataframe tbody tr th {\n",
       "        vertical-align: top;\n",
       "    }\n",
       "\n",
       "    .dataframe thead th {\n",
       "        text-align: right;\n",
       "    }\n",
       "</style>\n",
       "<table border=\"1\" class=\"dataframe\">\n",
       "  <thead>\n",
       "    <tr style=\"text-align: right;\">\n",
       "      <th></th>\n",
       "      <th>incident_datetime</th>\n",
       "      <th>incident_date</th>\n",
       "      <th>incident_time</th>\n",
       "      <th>incident_year</th>\n",
       "      <th>incident_day_of_week</th>\n",
       "      <th>report_datetime</th>\n",
       "      <th>row_id</th>\n",
       "      <th>incident_id</th>\n",
       "      <th>incident_number</th>\n",
       "      <th>report_type_code</th>\n",
       "      <th>...</th>\n",
       "      <th>latitude</th>\n",
       "      <th>longitude</th>\n",
       "      <th>point</th>\n",
       "      <th>:@computed_region_jwn9_ihcz</th>\n",
       "      <th>:@computed_region_h4ep_8xdi</th>\n",
       "      <th>:@computed_region_26cr_cadq</th>\n",
       "      <th>:@computed_region_qgnn_b9vv</th>\n",
       "      <th>:@computed_region_n4xg_c4py</th>\n",
       "      <th>:@computed_region_nqbw_i6c3</th>\n",
       "      <th>:@computed_region_jg9y_a9du</th>\n",
       "    </tr>\n",
       "  </thead>\n",
       "  <tbody>\n",
       "    <tr>\n",
       "      <th>0</th>\n",
       "      <td>2021-08-21T19:00:00.000</td>\n",
       "      <td>2021-08-21T00:00:00.000</td>\n",
       "      <td>19:00</td>\n",
       "      <td>2021</td>\n",
       "      <td>Saturday</td>\n",
       "      <td>2021-08-31T11:04:00.000</td>\n",
       "      <td>108341406374</td>\n",
       "      <td>1083414</td>\n",
       "      <td>216155465</td>\n",
       "      <td>II</td>\n",
       "      <td>...</td>\n",
       "      <td>NaN</td>\n",
       "      <td>NaN</td>\n",
       "      <td>NaN</td>\n",
       "      <td>NaN</td>\n",
       "      <td>NaN</td>\n",
       "      <td>NaN</td>\n",
       "      <td>NaN</td>\n",
       "      <td>NaN</td>\n",
       "      <td>NaN</td>\n",
       "      <td>NaN</td>\n",
       "    </tr>\n",
       "    <tr>\n",
       "      <th>1</th>\n",
       "      <td>2021-10-06T21:57:00.000</td>\n",
       "      <td>2021-10-06T00:00:00.000</td>\n",
       "      <td>21:57</td>\n",
       "      <td>2021</td>\n",
       "      <td>Wednesday</td>\n",
       "      <td>2021-10-06T21:57:00.000</td>\n",
       "      <td>107789907021</td>\n",
       "      <td>1077899</td>\n",
       "      <td>210652237</td>\n",
       "      <td>VI</td>\n",
       "      <td>...</td>\n",
       "      <td>37.78640961281089</td>\n",
       "      <td>-122.40803623744476</td>\n",
       "      <td>{'type': 'Point', 'coordinates': [-122.4080362...</td>\n",
       "      <td>19</td>\n",
       "      <td>1</td>\n",
       "      <td>3</td>\n",
       "      <td>6</td>\n",
       "      <td>NaN</td>\n",
       "      <td>NaN</td>\n",
       "      <td>NaN</td>\n",
       "    </tr>\n",
       "    <tr>\n",
       "      <th>2</th>\n",
       "      <td>2018-04-25T20:00:00.000</td>\n",
       "      <td>2018-04-25T00:00:00.000</td>\n",
       "      <td>20:00</td>\n",
       "      <td>2018</td>\n",
       "      <td>Wednesday</td>\n",
       "      <td>2018-04-28T13:50:00.000</td>\n",
       "      <td>66955909320</td>\n",
       "      <td>669559</td>\n",
       "      <td>186111470</td>\n",
       "      <td>II</td>\n",
       "      <td>...</td>\n",
       "      <td>NaN</td>\n",
       "      <td>NaN</td>\n",
       "      <td>NaN</td>\n",
       "      <td>NaN</td>\n",
       "      <td>NaN</td>\n",
       "      <td>NaN</td>\n",
       "      <td>NaN</td>\n",
       "      <td>NaN</td>\n",
       "      <td>NaN</td>\n",
       "      <td>NaN</td>\n",
       "    </tr>\n",
       "    <tr>\n",
       "      <th>3</th>\n",
       "      <td>2019-12-02T11:05:00.000</td>\n",
       "      <td>2019-12-02T00:00:00.000</td>\n",
       "      <td>11:05</td>\n",
       "      <td>2019</td>\n",
       "      <td>Monday</td>\n",
       "      <td>2019-12-04T15:40:00.000</td>\n",
       "      <td>87813806244</td>\n",
       "      <td>878138</td>\n",
       "      <td>196260835</td>\n",
       "      <td>II</td>\n",
       "      <td>...</td>\n",
       "      <td>NaN</td>\n",
       "      <td>NaN</td>\n",
       "      <td>NaN</td>\n",
       "      <td>NaN</td>\n",
       "      <td>NaN</td>\n",
       "      <td>NaN</td>\n",
       "      <td>NaN</td>\n",
       "      <td>NaN</td>\n",
       "      <td>NaN</td>\n",
       "      <td>NaN</td>\n",
       "    </tr>\n",
       "  </tbody>\n",
       "</table>\n",
       "<p>4 rows × 34 columns</p>\n",
       "</div>"
      ],
      "text/plain": [
       "         incident_datetime            incident_date incident_time   \n",
       "0  2021-08-21T19:00:00.000  2021-08-21T00:00:00.000         19:00  \\\n",
       "1  2021-10-06T21:57:00.000  2021-10-06T00:00:00.000         21:57   \n",
       "2  2018-04-25T20:00:00.000  2018-04-25T00:00:00.000         20:00   \n",
       "3  2019-12-02T11:05:00.000  2019-12-02T00:00:00.000         11:05   \n",
       "\n",
       "  incident_year incident_day_of_week          report_datetime        row_id   \n",
       "0          2021             Saturday  2021-08-31T11:04:00.000  108341406374  \\\n",
       "1          2021            Wednesday  2021-10-06T21:57:00.000  107789907021   \n",
       "2          2018            Wednesday  2018-04-28T13:50:00.000   66955909320   \n",
       "3          2019               Monday  2019-12-04T15:40:00.000   87813806244   \n",
       "\n",
       "  incident_id incident_number report_type_code  ...           latitude   \n",
       "0     1083414       216155465               II  ...                NaN  \\\n",
       "1     1077899       210652237               VI  ...  37.78640961281089   \n",
       "2      669559       186111470               II  ...                NaN   \n",
       "3      878138       196260835               II  ...                NaN   \n",
       "\n",
       "             longitude                                              point   \n",
       "0                  NaN                                                NaN  \\\n",
       "1  -122.40803623744476  {'type': 'Point', 'coordinates': [-122.4080362...   \n",
       "2                  NaN                                                NaN   \n",
       "3                  NaN                                                NaN   \n",
       "\n",
       "  :@computed_region_jwn9_ihcz :@computed_region_h4ep_8xdi   \n",
       "0                         NaN                         NaN  \\\n",
       "1                          19                           1   \n",
       "2                         NaN                         NaN   \n",
       "3                         NaN                         NaN   \n",
       "\n",
       "  :@computed_region_26cr_cadq :@computed_region_qgnn_b9vv   \n",
       "0                         NaN                         NaN  \\\n",
       "1                           3                           6   \n",
       "2                         NaN                         NaN   \n",
       "3                         NaN                         NaN   \n",
       "\n",
       "  :@computed_region_n4xg_c4py :@computed_region_nqbw_i6c3   \n",
       "0                         NaN                         NaN  \\\n",
       "1                         NaN                         NaN   \n",
       "2                         NaN                         NaN   \n",
       "3                         NaN                         NaN   \n",
       "\n",
       "  :@computed_region_jg9y_a9du  \n",
       "0                         NaN  \n",
       "1                         NaN  \n",
       "2                         NaN  \n",
       "3                         NaN  \n",
       "\n",
       "[4 rows x 34 columns]"
      ]
     },
     "execution_count": 17,
     "metadata": {},
     "output_type": "execute_result"
    }
   ],
   "source": [
    "blob.head(4)"
   ]
  },
  {
   "cell_type": "code",
   "execution_count": 27,
   "id": "a7d169c5-b18c-4e47-bf37-df2bd5e9dc63",
   "metadata": {
    "tags": []
   },
   "outputs": [],
   "source": [
    "from pathlib import Path"
   ]
  },
  {
   "cell_type": "code",
   "execution_count": 28,
   "id": "a0f2e85c-1411-4260-bfc1-56336c8a340d",
   "metadata": {
    "tags": []
   },
   "outputs": [],
   "source": [
    "# Extract year, month, and date from the incident_date column\n",
    "blob['year'] = pd.DatetimeIndex(blob['incident_date']).year.astype(str)\n",
    "blob['month'] = pd.DatetimeIndex(blob['incident_date']).month.astype(str).str.zfill(2)\n",
    "blob['day'] = pd.DatetimeIndex(blob['incident_date']).day.astype(str).str.zfill(2)"
   ]
  },
  {
   "cell_type": "code",
   "execution_count": 29,
   "id": "91ce3070-f785-401e-8321-992f80947723",
   "metadata": {
    "tags": []
   },
   "outputs": [],
   "source": [
    "# Create directory structure if it doesn't exist\n",
    "for year in blob['year'].unique():\n",
    "    year_dir = Path('data') / year\n",
    "    year_dir.mkdir(parents=True, exist_ok=True)\n",
    "    for month in blob[blob['year'] == year]['month'].unique():\n",
    "        month_dir = year_dir / month\n",
    "        month_dir.mkdir(parents=True, exist_ok=True)"
   ]
  },
  {
   "cell_type": "code",
   "execution_count": 32,
   "id": "71807af5-c1ef-4ba2-825d-c3e3aa8d331f",
   "metadata": {
    "tags": []
   },
   "outputs": [
    {
     "ename": "KeyboardInterrupt",
     "evalue": "",
     "output_type": "error",
     "traceback": [
      "\u001b[0;31m---------------------------------------------------------------------------\u001b[0m",
      "\u001b[0;31mKeyboardInterrupt\u001b[0m                         Traceback (most recent call last)",
      "Cell \u001b[0;32mIn[32], line 4\u001b[0m\n\u001b[1;32m      2\u001b[0m \u001b[38;5;28;01mfor\u001b[39;00m _, row \u001b[38;5;129;01min\u001b[39;00m blob\u001b[38;5;241m.\u001b[39miterrows():\n\u001b[1;32m      3\u001b[0m     file_path \u001b[38;5;241m=\u001b[39m Path(\u001b[38;5;124m'\u001b[39m\u001b[38;5;124mdata\u001b[39m\u001b[38;5;124m'\u001b[39m) \u001b[38;5;241m/\u001b[39m row[\u001b[38;5;124m'\u001b[39m\u001b[38;5;124myear\u001b[39m\u001b[38;5;124m'\u001b[39m] \u001b[38;5;241m/\u001b[39m row[\u001b[38;5;124m'\u001b[39m\u001b[38;5;124mmonth\u001b[39m\u001b[38;5;124m'\u001b[39m] \u001b[38;5;241m/\u001b[39m \u001b[38;5;124mf\u001b[39m\u001b[38;5;124m\"\u001b[39m\u001b[38;5;132;01m{\u001b[39;00mrow[\u001b[38;5;124m'\u001b[39m\u001b[38;5;124mday\u001b[39m\u001b[38;5;124m'\u001b[39m]\u001b[38;5;132;01m}\u001b[39;00m\u001b[38;5;124m.csv\u001b[39m\u001b[38;5;124m\"\u001b[39m\n\u001b[0;32m----> 4\u001b[0m     \u001b[43mrow\u001b[49m\u001b[38;5;241;43m.\u001b[39;49m\u001b[43mto_frame\u001b[49m\u001b[43m(\u001b[49m\u001b[43m)\u001b[49m\u001b[38;5;241;43m.\u001b[39;49m\u001b[43mT\u001b[49m\u001b[38;5;241;43m.\u001b[39;49m\u001b[43mto_csv\u001b[49m\u001b[43m(\u001b[49m\u001b[43mfile_path\u001b[49m\u001b[43m,\u001b[49m\u001b[43m \u001b[49m\u001b[43mmode\u001b[49m\u001b[38;5;241;43m=\u001b[39;49m\u001b[38;5;124;43m'\u001b[39;49m\u001b[38;5;124;43ma\u001b[39;49m\u001b[38;5;124;43m'\u001b[39;49m\u001b[43m,\u001b[49m\u001b[43m \u001b[49m\u001b[43mheader\u001b[49m\u001b[38;5;241;43m=\u001b[39;49m\u001b[38;5;129;43;01mnot\u001b[39;49;00m\u001b[43m \u001b[49m\u001b[43mfile_path\u001b[49m\u001b[38;5;241;43m.\u001b[39;49m\u001b[43mexists\u001b[49m\u001b[43m(\u001b[49m\u001b[43m)\u001b[49m\u001b[43m,\u001b[49m\u001b[43m \u001b[49m\u001b[43mindex\u001b[49m\u001b[38;5;241;43m=\u001b[39;49m\u001b[38;5;28;43;01mFalse\u001b[39;49;00m\u001b[43m)\u001b[49m\n",
      "File \u001b[0;32m~/miniconda3/lib/python3.9/site-packages/pandas/core/generic.py:3772\u001b[0m, in \u001b[0;36mNDFrame.to_csv\u001b[0;34m(self, path_or_buf, sep, na_rep, float_format, columns, header, index, index_label, mode, encoding, compression, quoting, quotechar, lineterminator, chunksize, date_format, doublequote, escapechar, decimal, errors, storage_options)\u001b[0m\n\u001b[1;32m   3761\u001b[0m df \u001b[38;5;241m=\u001b[39m \u001b[38;5;28mself\u001b[39m \u001b[38;5;28;01mif\u001b[39;00m \u001b[38;5;28misinstance\u001b[39m(\u001b[38;5;28mself\u001b[39m, ABCDataFrame) \u001b[38;5;28;01melse\u001b[39;00m \u001b[38;5;28mself\u001b[39m\u001b[38;5;241m.\u001b[39mto_frame()\n\u001b[1;32m   3763\u001b[0m formatter \u001b[38;5;241m=\u001b[39m DataFrameFormatter(\n\u001b[1;32m   3764\u001b[0m     frame\u001b[38;5;241m=\u001b[39mdf,\n\u001b[1;32m   3765\u001b[0m     header\u001b[38;5;241m=\u001b[39mheader,\n\u001b[0;32m   (...)\u001b[0m\n\u001b[1;32m   3769\u001b[0m     decimal\u001b[38;5;241m=\u001b[39mdecimal,\n\u001b[1;32m   3770\u001b[0m )\n\u001b[0;32m-> 3772\u001b[0m \u001b[38;5;28;01mreturn\u001b[39;00m \u001b[43mDataFrameRenderer\u001b[49m\u001b[43m(\u001b[49m\u001b[43mformatter\u001b[49m\u001b[43m)\u001b[49m\u001b[38;5;241;43m.\u001b[39;49m\u001b[43mto_csv\u001b[49m\u001b[43m(\u001b[49m\n\u001b[1;32m   3773\u001b[0m \u001b[43m    \u001b[49m\u001b[43mpath_or_buf\u001b[49m\u001b[43m,\u001b[49m\n\u001b[1;32m   3774\u001b[0m \u001b[43m    \u001b[49m\u001b[43mlineterminator\u001b[49m\u001b[38;5;241;43m=\u001b[39;49m\u001b[43mlineterminator\u001b[49m\u001b[43m,\u001b[49m\n\u001b[1;32m   3775\u001b[0m \u001b[43m    \u001b[49m\u001b[43msep\u001b[49m\u001b[38;5;241;43m=\u001b[39;49m\u001b[43msep\u001b[49m\u001b[43m,\u001b[49m\n\u001b[1;32m   3776\u001b[0m \u001b[43m    \u001b[49m\u001b[43mencoding\u001b[49m\u001b[38;5;241;43m=\u001b[39;49m\u001b[43mencoding\u001b[49m\u001b[43m,\u001b[49m\n\u001b[1;32m   3777\u001b[0m \u001b[43m    \u001b[49m\u001b[43merrors\u001b[49m\u001b[38;5;241;43m=\u001b[39;49m\u001b[43merrors\u001b[49m\u001b[43m,\u001b[49m\n\u001b[1;32m   3778\u001b[0m \u001b[43m    \u001b[49m\u001b[43mcompression\u001b[49m\u001b[38;5;241;43m=\u001b[39;49m\u001b[43mcompression\u001b[49m\u001b[43m,\u001b[49m\n\u001b[1;32m   3779\u001b[0m \u001b[43m    \u001b[49m\u001b[43mquoting\u001b[49m\u001b[38;5;241;43m=\u001b[39;49m\u001b[43mquoting\u001b[49m\u001b[43m,\u001b[49m\n\u001b[1;32m   3780\u001b[0m \u001b[43m    \u001b[49m\u001b[43mcolumns\u001b[49m\u001b[38;5;241;43m=\u001b[39;49m\u001b[43mcolumns\u001b[49m\u001b[43m,\u001b[49m\n\u001b[1;32m   3781\u001b[0m \u001b[43m    \u001b[49m\u001b[43mindex_label\u001b[49m\u001b[38;5;241;43m=\u001b[39;49m\u001b[43mindex_label\u001b[49m\u001b[43m,\u001b[49m\n\u001b[1;32m   3782\u001b[0m \u001b[43m    \u001b[49m\u001b[43mmode\u001b[49m\u001b[38;5;241;43m=\u001b[39;49m\u001b[43mmode\u001b[49m\u001b[43m,\u001b[49m\n\u001b[1;32m   3783\u001b[0m \u001b[43m    \u001b[49m\u001b[43mchunksize\u001b[49m\u001b[38;5;241;43m=\u001b[39;49m\u001b[43mchunksize\u001b[49m\u001b[43m,\u001b[49m\n\u001b[1;32m   3784\u001b[0m \u001b[43m    \u001b[49m\u001b[43mquotechar\u001b[49m\u001b[38;5;241;43m=\u001b[39;49m\u001b[43mquotechar\u001b[49m\u001b[43m,\u001b[49m\n\u001b[1;32m   3785\u001b[0m \u001b[43m    \u001b[49m\u001b[43mdate_format\u001b[49m\u001b[38;5;241;43m=\u001b[39;49m\u001b[43mdate_format\u001b[49m\u001b[43m,\u001b[49m\n\u001b[1;32m   3786\u001b[0m \u001b[43m    \u001b[49m\u001b[43mdoublequote\u001b[49m\u001b[38;5;241;43m=\u001b[39;49m\u001b[43mdoublequote\u001b[49m\u001b[43m,\u001b[49m\n\u001b[1;32m   3787\u001b[0m \u001b[43m    \u001b[49m\u001b[43mescapechar\u001b[49m\u001b[38;5;241;43m=\u001b[39;49m\u001b[43mescapechar\u001b[49m\u001b[43m,\u001b[49m\n\u001b[1;32m   3788\u001b[0m \u001b[43m    \u001b[49m\u001b[43mstorage_options\u001b[49m\u001b[38;5;241;43m=\u001b[39;49m\u001b[43mstorage_options\u001b[49m\u001b[43m,\u001b[49m\n\u001b[1;32m   3789\u001b[0m \u001b[43m\u001b[49m\u001b[43m)\u001b[49m\n",
      "File \u001b[0;32m~/miniconda3/lib/python3.9/site-packages/pandas/io/formats/format.py:1167\u001b[0m, in \u001b[0;36mDataFrameRenderer.to_csv\u001b[0;34m(self, path_or_buf, encoding, sep, columns, index_label, mode, compression, quoting, quotechar, lineterminator, chunksize, date_format, doublequote, escapechar, errors, storage_options)\u001b[0m\n\u001b[1;32m   1164\u001b[0m \u001b[38;5;28;01melse\u001b[39;00m:\n\u001b[1;32m   1165\u001b[0m     created_buffer \u001b[38;5;241m=\u001b[39m \u001b[38;5;28;01mFalse\u001b[39;00m\n\u001b[0;32m-> 1167\u001b[0m csv_formatter \u001b[38;5;241m=\u001b[39m \u001b[43mCSVFormatter\u001b[49m\u001b[43m(\u001b[49m\n\u001b[1;32m   1168\u001b[0m \u001b[43m    \u001b[49m\u001b[43mpath_or_buf\u001b[49m\u001b[38;5;241;43m=\u001b[39;49m\u001b[43mpath_or_buf\u001b[49m\u001b[43m,\u001b[49m\n\u001b[1;32m   1169\u001b[0m \u001b[43m    \u001b[49m\u001b[43mlineterminator\u001b[49m\u001b[38;5;241;43m=\u001b[39;49m\u001b[43mlineterminator\u001b[49m\u001b[43m,\u001b[49m\n\u001b[1;32m   1170\u001b[0m \u001b[43m    \u001b[49m\u001b[43msep\u001b[49m\u001b[38;5;241;43m=\u001b[39;49m\u001b[43msep\u001b[49m\u001b[43m,\u001b[49m\n\u001b[1;32m   1171\u001b[0m \u001b[43m    \u001b[49m\u001b[43mencoding\u001b[49m\u001b[38;5;241;43m=\u001b[39;49m\u001b[43mencoding\u001b[49m\u001b[43m,\u001b[49m\n\u001b[1;32m   1172\u001b[0m \u001b[43m    \u001b[49m\u001b[43merrors\u001b[49m\u001b[38;5;241;43m=\u001b[39;49m\u001b[43merrors\u001b[49m\u001b[43m,\u001b[49m\n\u001b[1;32m   1173\u001b[0m \u001b[43m    \u001b[49m\u001b[43mcompression\u001b[49m\u001b[38;5;241;43m=\u001b[39;49m\u001b[43mcompression\u001b[49m\u001b[43m,\u001b[49m\n\u001b[1;32m   1174\u001b[0m \u001b[43m    \u001b[49m\u001b[43mquoting\u001b[49m\u001b[38;5;241;43m=\u001b[39;49m\u001b[43mquoting\u001b[49m\u001b[43m,\u001b[49m\n\u001b[1;32m   1175\u001b[0m \u001b[43m    \u001b[49m\u001b[43mcols\u001b[49m\u001b[38;5;241;43m=\u001b[39;49m\u001b[43mcolumns\u001b[49m\u001b[43m,\u001b[49m\n\u001b[1;32m   1176\u001b[0m \u001b[43m    \u001b[49m\u001b[43mindex_label\u001b[49m\u001b[38;5;241;43m=\u001b[39;49m\u001b[43mindex_label\u001b[49m\u001b[43m,\u001b[49m\n\u001b[1;32m   1177\u001b[0m \u001b[43m    \u001b[49m\u001b[43mmode\u001b[49m\u001b[38;5;241;43m=\u001b[39;49m\u001b[43mmode\u001b[49m\u001b[43m,\u001b[49m\n\u001b[1;32m   1178\u001b[0m \u001b[43m    \u001b[49m\u001b[43mchunksize\u001b[49m\u001b[38;5;241;43m=\u001b[39;49m\u001b[43mchunksize\u001b[49m\u001b[43m,\u001b[49m\n\u001b[1;32m   1179\u001b[0m \u001b[43m    \u001b[49m\u001b[43mquotechar\u001b[49m\u001b[38;5;241;43m=\u001b[39;49m\u001b[43mquotechar\u001b[49m\u001b[43m,\u001b[49m\n\u001b[1;32m   1180\u001b[0m \u001b[43m    \u001b[49m\u001b[43mdate_format\u001b[49m\u001b[38;5;241;43m=\u001b[39;49m\u001b[43mdate_format\u001b[49m\u001b[43m,\u001b[49m\n\u001b[1;32m   1181\u001b[0m \u001b[43m    \u001b[49m\u001b[43mdoublequote\u001b[49m\u001b[38;5;241;43m=\u001b[39;49m\u001b[43mdoublequote\u001b[49m\u001b[43m,\u001b[49m\n\u001b[1;32m   1182\u001b[0m \u001b[43m    \u001b[49m\u001b[43mescapechar\u001b[49m\u001b[38;5;241;43m=\u001b[39;49m\u001b[43mescapechar\u001b[49m\u001b[43m,\u001b[49m\n\u001b[1;32m   1183\u001b[0m \u001b[43m    \u001b[49m\u001b[43mstorage_options\u001b[49m\u001b[38;5;241;43m=\u001b[39;49m\u001b[43mstorage_options\u001b[49m\u001b[43m,\u001b[49m\n\u001b[1;32m   1184\u001b[0m \u001b[43m    \u001b[49m\u001b[43mformatter\u001b[49m\u001b[38;5;241;43m=\u001b[39;49m\u001b[38;5;28;43mself\u001b[39;49m\u001b[38;5;241;43m.\u001b[39;49m\u001b[43mfmt\u001b[49m\u001b[43m,\u001b[49m\n\u001b[1;32m   1185\u001b[0m \u001b[43m\u001b[49m\u001b[43m)\u001b[49m\n\u001b[1;32m   1186\u001b[0m csv_formatter\u001b[38;5;241m.\u001b[39msave()\n\u001b[1;32m   1188\u001b[0m \u001b[38;5;28;01mif\u001b[39;00m created_buffer:\n",
      "File \u001b[0;32m~/miniconda3/lib/python3.9/site-packages/pandas/io/formats/csvs.py:90\u001b[0m, in \u001b[0;36mCSVFormatter.__init__\u001b[0;34m(self, formatter, path_or_buf, sep, cols, index_label, mode, encoding, errors, compression, quoting, lineterminator, chunksize, quotechar, date_format, doublequote, escapechar, storage_options)\u001b[0m\n\u001b[1;32m     88\u001b[0m \u001b[38;5;28mself\u001b[39m\u001b[38;5;241m.\u001b[39mdate_format \u001b[38;5;241m=\u001b[39m date_format\n\u001b[1;32m     89\u001b[0m \u001b[38;5;28mself\u001b[39m\u001b[38;5;241m.\u001b[39mcols \u001b[38;5;241m=\u001b[39m \u001b[38;5;28mself\u001b[39m\u001b[38;5;241m.\u001b[39m_initialize_columns(cols)\n\u001b[0;32m---> 90\u001b[0m \u001b[38;5;28mself\u001b[39m\u001b[38;5;241m.\u001b[39mchunksize \u001b[38;5;241m=\u001b[39m \u001b[38;5;28;43mself\u001b[39;49m\u001b[38;5;241;43m.\u001b[39;49m\u001b[43m_initialize_chunksize\u001b[49m\u001b[43m(\u001b[49m\u001b[43mchunksize\u001b[49m\u001b[43m)\u001b[49m\n",
      "File \u001b[0;32m~/miniconda3/lib/python3.9/site-packages/pandas/io/formats/csvs.py:165\u001b[0m, in \u001b[0;36mCSVFormatter._initialize_chunksize\u001b[0;34m(self, chunksize)\u001b[0m\n\u001b[1;32m    163\u001b[0m \u001b[38;5;28;01mdef\u001b[39;00m \u001b[38;5;21m_initialize_chunksize\u001b[39m(\u001b[38;5;28mself\u001b[39m, chunksize: \u001b[38;5;28mint\u001b[39m \u001b[38;5;241m|\u001b[39m \u001b[38;5;28;01mNone\u001b[39;00m) \u001b[38;5;241m-\u001b[39m\u001b[38;5;241m>\u001b[39m \u001b[38;5;28mint\u001b[39m:\n\u001b[1;32m    164\u001b[0m     \u001b[38;5;28;01mif\u001b[39;00m chunksize \u001b[38;5;129;01mis\u001b[39;00m \u001b[38;5;28;01mNone\u001b[39;00m:\n\u001b[0;32m--> 165\u001b[0m         \u001b[38;5;28;01mreturn\u001b[39;00m (\u001b[38;5;241;43m100000\u001b[39;49m\u001b[43m \u001b[49m\u001b[38;5;241;43m/\u001b[39;49m\u001b[38;5;241;43m/\u001b[39;49m\u001b[43m \u001b[49m\u001b[43m(\u001b[49m\u001b[38;5;28;43mlen\u001b[39;49m\u001b[43m(\u001b[49m\u001b[38;5;28;43mself\u001b[39;49m\u001b[38;5;241;43m.\u001b[39;49m\u001b[43mcols\u001b[49m\u001b[43m)\u001b[49m\u001b[43m \u001b[49m\u001b[38;5;129;43;01mor\u001b[39;49;00m\u001b[43m \u001b[49m\u001b[38;5;241;43m1\u001b[39;49m\u001b[43m)\u001b[49m) \u001b[38;5;129;01mor\u001b[39;00m \u001b[38;5;241m1\u001b[39m\n\u001b[1;32m    166\u001b[0m     \u001b[38;5;28;01mreturn\u001b[39;00m \u001b[38;5;28mint\u001b[39m(chunksize)\n",
      "\u001b[0;31mKeyboardInterrupt\u001b[0m: "
     ]
    }
   ],
   "source": [
    "# Save the DataFrame into year/month/day CSV files\n",
    "for _, row in blob.iterrows():\n",
    "    file_path = Path('data') / row['year'] / row['month'] / f\"{row['day']}.csv\"\n",
    "    row.to_frame().T.to_csv(file_path, mode='a', header=not file_path.exists(), index=False)"
   ]
  },
  {
   "cell_type": "code",
   "execution_count": 82,
   "id": "1a7e2a52-7a40-43a8-93e9-a971f7c789e0",
   "metadata": {
    "tags": []
   },
   "outputs": [],
   "source": [
    "results_df = pd.DataFrame.from_records(results)"
   ]
  },
  {
   "cell_type": "code",
   "execution_count": 80,
   "id": "8782d303-105b-4e2e-a15c-1623b2088af9",
   "metadata": {
    "tags": []
   },
   "outputs": [],
   "source": [
    "with open(\"offset.txt\", \"w+\") as f: \n",
    "    f.write(str(offset))"
   ]
  },
  {
   "cell_type": "code",
   "execution_count": 88,
   "id": "59e8d642-55e7-44a9-b126-99a6fb699a1a",
   "metadata": {
    "tags": []
   },
   "outputs": [],
   "source": [
    "results = client.get(\"wg3w-h783\", offset=offset,order=\"report_datetime\")"
   ]
  },
  {
   "cell_type": "code",
   "execution_count": 84,
   "id": "2ae8f67e-0535-4b84-ae29-16dcea62450b",
   "metadata": {
    "tags": []
   },
   "outputs": [],
   "source": [
    "results = client.get(\"wg3w-h783\", where=condition)"
   ]
  },
  {
   "cell_type": "code",
   "execution_count": 90,
   "id": "993befca-2967-4b85-ad56-423356ea243b",
   "metadata": {
    "tags": []
   },
   "outputs": [
    {
     "data": {
      "text/html": [
       "<div>\n",
       "<style scoped>\n",
       "    .dataframe tbody tr th:only-of-type {\n",
       "        vertical-align: middle;\n",
       "    }\n",
       "\n",
       "    .dataframe tbody tr th {\n",
       "        vertical-align: top;\n",
       "    }\n",
       "\n",
       "    .dataframe thead th {\n",
       "        text-align: right;\n",
       "    }\n",
       "</style>\n",
       "<table border=\"1\" class=\"dataframe\">\n",
       "  <thead>\n",
       "    <tr style=\"text-align: right;\">\n",
       "      <th></th>\n",
       "      <th>incident_datetime</th>\n",
       "      <th>incident_date</th>\n",
       "      <th>incident_time</th>\n",
       "      <th>incident_year</th>\n",
       "      <th>incident_day_of_week</th>\n",
       "      <th>report_datetime</th>\n",
       "      <th>row_id</th>\n",
       "      <th>incident_id</th>\n",
       "      <th>incident_number</th>\n",
       "      <th>cad_number</th>\n",
       "      <th>...</th>\n",
       "      <th>resolution</th>\n",
       "      <th>intersection</th>\n",
       "      <th>cnn</th>\n",
       "      <th>police_district</th>\n",
       "      <th>analysis_neighborhood</th>\n",
       "      <th>supervisor_district</th>\n",
       "      <th>supervisor_district_2012</th>\n",
       "      <th>latitude</th>\n",
       "      <th>longitude</th>\n",
       "      <th>point</th>\n",
       "    </tr>\n",
       "  </thead>\n",
       "  <tbody>\n",
       "    <tr>\n",
       "      <th>0</th>\n",
       "      <td>2023-03-30T18:00:00.000</td>\n",
       "      <td>2023-03-30T00:00:00.000</td>\n",
       "      <td>18:00</td>\n",
       "      <td>2023</td>\n",
       "      <td>Thursday</td>\n",
       "      <td>2023-04-02T21:10:00.000</td>\n",
       "      <td>126170906241</td>\n",
       "      <td>1261709</td>\n",
       "      <td>230229076</td>\n",
       "      <td>230922935</td>\n",
       "      <td>...</td>\n",
       "      <td>Open or Active</td>\n",
       "      <td>16TH ST \\ JOSE SARRIA CT \\ POND ST</td>\n",
       "      <td>25800000</td>\n",
       "      <td>Mission</td>\n",
       "      <td>Castro/Upper Market</td>\n",
       "      <td>8</td>\n",
       "      <td>8</td>\n",
       "      <td>37.76428896385761</td>\n",
       "      <td>-122.43227951733411</td>\n",
       "      <td>{'type': 'Point', 'coordinates': [-122.4322795...</td>\n",
       "    </tr>\n",
       "    <tr>\n",
       "      <th>1</th>\n",
       "      <td>2023-04-02T14:25:00.000</td>\n",
       "      <td>2023-04-02T00:00:00.000</td>\n",
       "      <td>14:25</td>\n",
       "      <td>2023</td>\n",
       "      <td>Sunday</td>\n",
       "      <td>2023-04-02T21:35:00.000</td>\n",
       "      <td>126171128161</td>\n",
       "      <td>1261711</td>\n",
       "      <td>230226486</td>\n",
       "      <td>230922904</td>\n",
       "      <td>...</td>\n",
       "      <td>Open or Active</td>\n",
       "      <td>PALOU AVE \\ HAWES ST</td>\n",
       "      <td>20118000</td>\n",
       "      <td>Bayview</td>\n",
       "      <td>Bayview Hunters Point</td>\n",
       "      <td>10</td>\n",
       "      <td>10</td>\n",
       "      <td>37.72867801184137</td>\n",
       "      <td>-122.38156441612668</td>\n",
       "      <td>{'type': 'Point', 'coordinates': [-122.3815644...</td>\n",
       "    </tr>\n",
       "    <tr>\n",
       "      <th>2</th>\n",
       "      <td>2023-04-02T14:25:00.000</td>\n",
       "      <td>2023-04-02T00:00:00.000</td>\n",
       "      <td>14:25</td>\n",
       "      <td>2023</td>\n",
       "      <td>Sunday</td>\n",
       "      <td>2023-04-02T21:35:00.000</td>\n",
       "      <td>126171128160</td>\n",
       "      <td>1261711</td>\n",
       "      <td>230226486</td>\n",
       "      <td>230922904</td>\n",
       "      <td>...</td>\n",
       "      <td>Open or Active</td>\n",
       "      <td>PALOU AVE \\ HAWES ST</td>\n",
       "      <td>20118000</td>\n",
       "      <td>Bayview</td>\n",
       "      <td>Bayview Hunters Point</td>\n",
       "      <td>10</td>\n",
       "      <td>10</td>\n",
       "      <td>37.72867801184137</td>\n",
       "      <td>-122.38156441612668</td>\n",
       "      <td>{'type': 'Point', 'coordinates': [-122.3815644...</td>\n",
       "    </tr>\n",
       "    <tr>\n",
       "      <th>3</th>\n",
       "      <td>2023-04-02T21:37:00.000</td>\n",
       "      <td>2023-04-02T00:00:00.000</td>\n",
       "      <td>21:37</td>\n",
       "      <td>2023</td>\n",
       "      <td>Sunday</td>\n",
       "      <td>2023-04-02T21:37:00.000</td>\n",
       "      <td>126171971012</td>\n",
       "      <td>1261719</td>\n",
       "      <td>230216631</td>\n",
       "      <td>230872414</td>\n",
       "      <td>...</td>\n",
       "      <td>Open or Active</td>\n",
       "      <td>BRYANT ST \\ LANGTON ST</td>\n",
       "      <td>23876000</td>\n",
       "      <td>Southern</td>\n",
       "      <td>South of Market</td>\n",
       "      <td>6</td>\n",
       "      <td>6</td>\n",
       "      <td>37.77385630397913</td>\n",
       "      <td>-122.40528580238285</td>\n",
       "      <td>{'type': 'Point', 'coordinates': [-122.4052858...</td>\n",
       "    </tr>\n",
       "    <tr>\n",
       "      <th>4</th>\n",
       "      <td>2023-04-02T21:38:00.000</td>\n",
       "      <td>2023-04-02T00:00:00.000</td>\n",
       "      <td>21:38</td>\n",
       "      <td>2023</td>\n",
       "      <td>Sunday</td>\n",
       "      <td>2023-04-02T21:38:00.000</td>\n",
       "      <td>126171707043</td>\n",
       "      <td>1261717</td>\n",
       "      <td>230125004</td>\n",
       "      <td>NaN</td>\n",
       "      <td>...</td>\n",
       "      <td>Open or Active</td>\n",
       "      <td>NaN</td>\n",
       "      <td>NaN</td>\n",
       "      <td>Out of SF</td>\n",
       "      <td>NaN</td>\n",
       "      <td>NaN</td>\n",
       "      <td>NaN</td>\n",
       "      <td>NaN</td>\n",
       "      <td>NaN</td>\n",
       "      <td>NaN</td>\n",
       "    </tr>\n",
       "    <tr>\n",
       "      <th>5</th>\n",
       "      <td>2023-04-02T22:35:00.000</td>\n",
       "      <td>2023-04-02T00:00:00.000</td>\n",
       "      <td>22:35</td>\n",
       "      <td>2023</td>\n",
       "      <td>Sunday</td>\n",
       "      <td>2023-04-02T22:35:00.000</td>\n",
       "      <td>126173007055</td>\n",
       "      <td>1261730</td>\n",
       "      <td>230229195</td>\n",
       "      <td>230923119</td>\n",
       "      <td>...</td>\n",
       "      <td>Open or Active</td>\n",
       "      <td>04TH ST \\ BRANNAN ST</td>\n",
       "      <td>23827000</td>\n",
       "      <td>Southern</td>\n",
       "      <td>South of Market</td>\n",
       "      <td>6</td>\n",
       "      <td>6</td>\n",
       "      <td>37.7783268304671</td>\n",
       "      <td>-122.39653063923612</td>\n",
       "      <td>{'type': 'Point', 'coordinates': [-122.3965306...</td>\n",
       "    </tr>\n",
       "    <tr>\n",
       "      <th>6</th>\n",
       "      <td>2023-04-02T22:41:00.000</td>\n",
       "      <td>2023-04-02T00:00:00.000</td>\n",
       "      <td>22:41</td>\n",
       "      <td>2023</td>\n",
       "      <td>Sunday</td>\n",
       "      <td>2023-04-02T22:41:00.000</td>\n",
       "      <td>126141264020</td>\n",
       "      <td>1261412</td>\n",
       "      <td>230227020</td>\n",
       "      <td>230913295</td>\n",
       "      <td>...</td>\n",
       "      <td>Open or Active</td>\n",
       "      <td>ARBALLO DR \\ SERRANO DR</td>\n",
       "      <td>23098000</td>\n",
       "      <td>Taraval</td>\n",
       "      <td>Lakeshore</td>\n",
       "      <td>7</td>\n",
       "      <td>7</td>\n",
       "      <td>37.719109027120155</td>\n",
       "      <td>-122.48310424113126</td>\n",
       "      <td>{'type': 'Point', 'coordinates': [-122.4831042...</td>\n",
       "    </tr>\n",
       "  </tbody>\n",
       "</table>\n",
       "<p>7 rows × 26 columns</p>\n",
       "</div>"
      ],
      "text/plain": [
       "         incident_datetime            incident_date incident_time   \n",
       "0  2023-03-30T18:00:00.000  2023-03-30T00:00:00.000         18:00  \\\n",
       "1  2023-04-02T14:25:00.000  2023-04-02T00:00:00.000         14:25   \n",
       "2  2023-04-02T14:25:00.000  2023-04-02T00:00:00.000         14:25   \n",
       "3  2023-04-02T21:37:00.000  2023-04-02T00:00:00.000         21:37   \n",
       "4  2023-04-02T21:38:00.000  2023-04-02T00:00:00.000         21:38   \n",
       "5  2023-04-02T22:35:00.000  2023-04-02T00:00:00.000         22:35   \n",
       "6  2023-04-02T22:41:00.000  2023-04-02T00:00:00.000         22:41   \n",
       "\n",
       "  incident_year incident_day_of_week          report_datetime        row_id   \n",
       "0          2023             Thursday  2023-04-02T21:10:00.000  126170906241  \\\n",
       "1          2023               Sunday  2023-04-02T21:35:00.000  126171128161   \n",
       "2          2023               Sunday  2023-04-02T21:35:00.000  126171128160   \n",
       "3          2023               Sunday  2023-04-02T21:37:00.000  126171971012   \n",
       "4          2023               Sunday  2023-04-02T21:38:00.000  126171707043   \n",
       "5          2023               Sunday  2023-04-02T22:35:00.000  126173007055   \n",
       "6          2023               Sunday  2023-04-02T22:41:00.000  126141264020   \n",
       "\n",
       "  incident_id incident_number cad_number  ...      resolution   \n",
       "0     1261709       230229076  230922935  ...  Open or Active  \\\n",
       "1     1261711       230226486  230922904  ...  Open or Active   \n",
       "2     1261711       230226486  230922904  ...  Open or Active   \n",
       "3     1261719       230216631  230872414  ...  Open or Active   \n",
       "4     1261717       230125004        NaN  ...  Open or Active   \n",
       "5     1261730       230229195  230923119  ...  Open or Active   \n",
       "6     1261412       230227020  230913295  ...  Open or Active   \n",
       "\n",
       "                         intersection       cnn police_district   \n",
       "0  16TH ST \\ JOSE SARRIA CT \\ POND ST  25800000         Mission  \\\n",
       "1                PALOU AVE \\ HAWES ST  20118000         Bayview   \n",
       "2                PALOU AVE \\ HAWES ST  20118000         Bayview   \n",
       "3              BRYANT ST \\ LANGTON ST  23876000        Southern   \n",
       "4                                 NaN       NaN       Out of SF   \n",
       "5                04TH ST \\ BRANNAN ST  23827000        Southern   \n",
       "6             ARBALLO DR \\ SERRANO DR  23098000         Taraval   \n",
       "\n",
       "   analysis_neighborhood supervisor_district supervisor_district_2012   \n",
       "0    Castro/Upper Market                   8                        8  \\\n",
       "1  Bayview Hunters Point                  10                       10   \n",
       "2  Bayview Hunters Point                  10                       10   \n",
       "3        South of Market                   6                        6   \n",
       "4                    NaN                 NaN                      NaN   \n",
       "5        South of Market                   6                        6   \n",
       "6              Lakeshore                   7                        7   \n",
       "\n",
       "             latitude            longitude   \n",
       "0   37.76428896385761  -122.43227951733411  \\\n",
       "1   37.72867801184137  -122.38156441612668   \n",
       "2   37.72867801184137  -122.38156441612668   \n",
       "3   37.77385630397913  -122.40528580238285   \n",
       "4                 NaN                  NaN   \n",
       "5    37.7783268304671  -122.39653063923612   \n",
       "6  37.719109027120155  -122.48310424113126   \n",
       "\n",
       "                                               point  \n",
       "0  {'type': 'Point', 'coordinates': [-122.4322795...  \n",
       "1  {'type': 'Point', 'coordinates': [-122.3815644...  \n",
       "2  {'type': 'Point', 'coordinates': [-122.3815644...  \n",
       "3  {'type': 'Point', 'coordinates': [-122.4052858...  \n",
       "4                                                NaN  \n",
       "5  {'type': 'Point', 'coordinates': [-122.3965306...  \n",
       "6  {'type': 'Point', 'coordinates': [-122.4831042...  \n",
       "\n",
       "[7 rows x 26 columns]"
      ]
     },
     "execution_count": 90,
     "metadata": {},
     "output_type": "execute_result"
    }
   ],
   "source": [
    "results_df"
   ]
  },
  {
   "cell_type": "markdown",
   "id": "a473b047-caf6-4669-8958-fed5f0494b8e",
   "metadata": {},
   "source": [
    "Below things should be considered when pushing to gcs in parquet"
   ]
  },
  {
   "cell_type": "code",
   "execution_count": 28,
   "id": "a237dd58-cbd4-409b-944f-457292c5f9b8",
   "metadata": {
    "tags": []
   },
   "outputs": [],
   "source": [
    "results_filtered = results_df[results_df[':@computed_region_nqbw_i6c3'].notnull()]"
   ]
  },
  {
   "cell_type": "code",
   "execution_count": 38,
   "id": "3a092465-5804-4c1d-868c-033480388b87",
   "metadata": {
    "tags": []
   },
   "outputs": [
    {
     "data": {
      "text/html": [
       "<div>\n",
       "<style scoped>\n",
       "    .dataframe tbody tr th:only-of-type {\n",
       "        vertical-align: middle;\n",
       "    }\n",
       "\n",
       "    .dataframe tbody tr th {\n",
       "        vertical-align: top;\n",
       "    }\n",
       "\n",
       "    .dataframe thead th {\n",
       "        text-align: right;\n",
       "    }\n",
       "</style>\n",
       "<table border=\"1\" class=\"dataframe\">\n",
       "  <thead>\n",
       "    <tr style=\"text-align: right;\">\n",
       "      <th></th>\n",
       "      <th>incident_datetime</th>\n",
       "      <th>incident_date</th>\n",
       "      <th>incident_time</th>\n",
       "      <th>incident_year</th>\n",
       "      <th>incident_day_of_week</th>\n",
       "      <th>report_datetime</th>\n",
       "      <th>row_id</th>\n",
       "      <th>incident_id</th>\n",
       "      <th>incident_number</th>\n",
       "      <th>report_type_code</th>\n",
       "      <th>...</th>\n",
       "      <th>supervisor_district_2012</th>\n",
       "      <th>latitude</th>\n",
       "      <th>longitude</th>\n",
       "      <th>point</th>\n",
       "      <th>:@computed_region_26cr_cadq</th>\n",
       "      <th>:@computed_region_qgnn_b9vv</th>\n",
       "      <th>:@computed_region_jwn9_ihcz</th>\n",
       "      <th>:@computed_region_h4ep_8xdi</th>\n",
       "      <th>:@computed_region_nqbw_i6c3</th>\n",
       "      <th>:@computed_region_n4xg_c4py</th>\n",
       "    </tr>\n",
       "  </thead>\n",
       "  <tbody>\n",
       "    <tr>\n",
       "      <th>220</th>\n",
       "      <td>2021-07-12 18:18:00</td>\n",
       "      <td>2021-07-12</td>\n",
       "      <td>18:18:00</td>\n",
       "      <td>2021</td>\n",
       "      <td>Monday</td>\n",
       "      <td>2021-07-12T18:26:00.000</td>\n",
       "      <td>104984326080</td>\n",
       "      <td>1049843</td>\n",
       "      <td>210440565</td>\n",
       "      <td>II</td>\n",
       "      <td>...</td>\n",
       "      <td>9</td>\n",
       "      <td>37.74817939136343</td>\n",
       "      <td>-122.41917060471224</td>\n",
       "      <td>{'type': 'Point', 'coordinates': [-122.4191706...</td>\n",
       "      <td>2</td>\n",
       "      <td>3</td>\n",
       "      <td>53</td>\n",
       "      <td>NaN</td>\n",
       "      <td>3</td>\n",
       "      <td>NaN</td>\n",
       "    </tr>\n",
       "    <tr>\n",
       "      <th>221</th>\n",
       "      <td>2021-07-07 08:18:00</td>\n",
       "      <td>2021-07-07</td>\n",
       "      <td>08:18:00</td>\n",
       "      <td>2021</td>\n",
       "      <td>Wednesday</td>\n",
       "      <td>2021-07-07T08:28:00.000</td>\n",
       "      <td>104785804134</td>\n",
       "      <td>1047858</td>\n",
       "      <td>210426383</td>\n",
       "      <td>II</td>\n",
       "      <td>...</td>\n",
       "      <td>9</td>\n",
       "      <td>37.753836586731786</td>\n",
       "      <td>-122.41859394629981</td>\n",
       "      <td>{'type': 'Point', 'coordinates': [-122.4185939...</td>\n",
       "      <td>2</td>\n",
       "      <td>3</td>\n",
       "      <td>53</td>\n",
       "      <td>NaN</td>\n",
       "      <td>3</td>\n",
       "      <td>NaN</td>\n",
       "    </tr>\n",
       "    <tr>\n",
       "      <th>304</th>\n",
       "      <td>2021-07-12 12:20:00</td>\n",
       "      <td>2021-07-12</td>\n",
       "      <td>12:20:00</td>\n",
       "      <td>2021</td>\n",
       "      <td>Monday</td>\n",
       "      <td>2021-07-12T15:20:00.000</td>\n",
       "      <td>104980919057</td>\n",
       "      <td>1049809</td>\n",
       "      <td>210440703</td>\n",
       "      <td>II</td>\n",
       "      <td>...</td>\n",
       "      <td>6</td>\n",
       "      <td>37.78321431177312</td>\n",
       "      <td>-122.41076482950653</td>\n",
       "      <td>{'type': 'Point', 'coordinates': [-122.4107648...</td>\n",
       "      <td>10</td>\n",
       "      <td>5</td>\n",
       "      <td>20</td>\n",
       "      <td>1</td>\n",
       "      <td>1</td>\n",
       "      <td>1</td>\n",
       "    </tr>\n",
       "    <tr>\n",
       "      <th>309</th>\n",
       "      <td>2019-06-11 16:30:00</td>\n",
       "      <td>2019-06-11</td>\n",
       "      <td>16:30:00</td>\n",
       "      <td>2019</td>\n",
       "      <td>Tuesday</td>\n",
       "      <td>2021-06-05T05:17:00.000</td>\n",
       "      <td>103770002004</td>\n",
       "      <td>1037700</td>\n",
       "      <td>210348157</td>\n",
       "      <td>II</td>\n",
       "      <td>...</td>\n",
       "      <td>6</td>\n",
       "      <td>37.775953228502786</td>\n",
       "      <td>-122.40884575063417</td>\n",
       "      <td>{'type': 'Point', 'coordinates': [-122.4088457...</td>\n",
       "      <td>10</td>\n",
       "      <td>1</td>\n",
       "      <td>32</td>\n",
       "      <td>NaN</td>\n",
       "      <td>1</td>\n",
       "      <td>1</td>\n",
       "    </tr>\n",
       "    <tr>\n",
       "      <th>342</th>\n",
       "      <td>2022-09-25 17:00:00</td>\n",
       "      <td>2022-09-25</td>\n",
       "      <td>17:00:00</td>\n",
       "      <td>2022</td>\n",
       "      <td>Sunday</td>\n",
       "      <td>2022-09-26T17:09:00.000</td>\n",
       "      <td>119741374000</td>\n",
       "      <td>1197413</td>\n",
       "      <td>220659671</td>\n",
       "      <td>II</td>\n",
       "      <td>...</td>\n",
       "      <td>9</td>\n",
       "      <td>37.75723240847821</td>\n",
       "      <td>-122.41562619847495</td>\n",
       "      <td>{'type': 'Point', 'coordinates': [-122.4156261...</td>\n",
       "      <td>2</td>\n",
       "      <td>3</td>\n",
       "      <td>53</td>\n",
       "      <td>NaN</td>\n",
       "      <td>3</td>\n",
       "      <td>NaN</td>\n",
       "    </tr>\n",
       "  </tbody>\n",
       "</table>\n",
       "<p>5 rows × 33 columns</p>\n",
       "</div>"
      ],
      "text/plain": [
       "      incident_datetime incident_date incident_time incident_year   \n",
       "220 2021-07-12 18:18:00    2021-07-12      18:18:00          2021  \\\n",
       "221 2021-07-07 08:18:00    2021-07-07      08:18:00          2021   \n",
       "304 2021-07-12 12:20:00    2021-07-12      12:20:00          2021   \n",
       "309 2019-06-11 16:30:00    2019-06-11      16:30:00          2019   \n",
       "342 2022-09-25 17:00:00    2022-09-25      17:00:00          2022   \n",
       "\n",
       "    incident_day_of_week          report_datetime        row_id incident_id   \n",
       "220               Monday  2021-07-12T18:26:00.000  104984326080     1049843  \\\n",
       "221            Wednesday  2021-07-07T08:28:00.000  104785804134     1047858   \n",
       "304               Monday  2021-07-12T15:20:00.000  104980919057     1049809   \n",
       "309              Tuesday  2021-06-05T05:17:00.000  103770002004     1037700   \n",
       "342               Sunday  2022-09-26T17:09:00.000  119741374000     1197413   \n",
       "\n",
       "    incident_number report_type_code  ... supervisor_district_2012   \n",
       "220       210440565               II  ...                        9  \\\n",
       "221       210426383               II  ...                        9   \n",
       "304       210440703               II  ...                        6   \n",
       "309       210348157               II  ...                        6   \n",
       "342       220659671               II  ...                        9   \n",
       "\n",
       "               latitude            longitude   \n",
       "220   37.74817939136343  -122.41917060471224  \\\n",
       "221  37.753836586731786  -122.41859394629981   \n",
       "304   37.78321431177312  -122.41076482950653   \n",
       "309  37.775953228502786  -122.40884575063417   \n",
       "342   37.75723240847821  -122.41562619847495   \n",
       "\n",
       "                                                 point   \n",
       "220  {'type': 'Point', 'coordinates': [-122.4191706...  \\\n",
       "221  {'type': 'Point', 'coordinates': [-122.4185939...   \n",
       "304  {'type': 'Point', 'coordinates': [-122.4107648...   \n",
       "309  {'type': 'Point', 'coordinates': [-122.4088457...   \n",
       "342  {'type': 'Point', 'coordinates': [-122.4156261...   \n",
       "\n",
       "    :@computed_region_26cr_cadq :@computed_region_qgnn_b9vv   \n",
       "220                           2                           3  \\\n",
       "221                           2                           3   \n",
       "304                          10                           5   \n",
       "309                          10                           1   \n",
       "342                           2                           3   \n",
       "\n",
       "    :@computed_region_jwn9_ihcz :@computed_region_h4ep_8xdi   \n",
       "220                          53                         NaN  \\\n",
       "221                          53                         NaN   \n",
       "304                          20                           1   \n",
       "309                          32                         NaN   \n",
       "342                          53                         NaN   \n",
       "\n",
       "    :@computed_region_nqbw_i6c3 :@computed_region_n4xg_c4py  \n",
       "220                           3                         NaN  \n",
       "221                           3                         NaN  \n",
       "304                           1                           1  \n",
       "309                           1                           1  \n",
       "342                           3                         NaN  \n",
       "\n",
       "[5 rows x 33 columns]"
      ]
     },
     "execution_count": 38,
     "metadata": {},
     "output_type": "execute_result"
    }
   ],
   "source": [
    "results_filtered.head(5)"
   ]
  },
  {
   "cell_type": "code",
   "execution_count": 33,
   "id": "5d29a600-c744-4440-99d1-86fd4debce8a",
   "metadata": {
    "tags": []
   },
   "outputs": [
    {
     "name": "stderr",
     "output_type": "stream",
     "text": [
      "/tmp/ipykernel_11518/2783132438.py:1: SettingWithCopyWarning: \n",
      "A value is trying to be set on a copy of a slice from a DataFrame.\n",
      "Try using .loc[row_indexer,col_indexer] = value instead\n",
      "\n",
      "See the caveats in the documentation: https://pandas.pydata.org/pandas-docs/stable/user_guide/indexing.html#returning-a-view-versus-a-copy\n",
      "  results_filtered['incident_datetime'] = results_filtered['incident_datetime'].astype('datetime64[ns]')\n"
     ]
    }
   ],
   "source": [
    "results_filtered['incident_datetime'] = results_filtered['incident_datetime'].astype('datetime64[ns]')"
   ]
  },
  {
   "cell_type": "code",
   "execution_count": 34,
   "id": "cbbb44e3-244c-4de7-9026-1b0f99c2a649",
   "metadata": {
    "tags": []
   },
   "outputs": [
    {
     "name": "stderr",
     "output_type": "stream",
     "text": [
      "/tmp/ipykernel_11518/4139641677.py:1: SettingWithCopyWarning: \n",
      "A value is trying to be set on a copy of a slice from a DataFrame.\n",
      "Try using .loc[row_indexer,col_indexer] = value instead\n",
      "\n",
      "See the caveats in the documentation: https://pandas.pydata.org/pandas-docs/stable/user_guide/indexing.html#returning-a-view-versus-a-copy\n",
      "  results_filtered['incident_date'] = results_filtered['incident_date'].astype('datetime64[ns]')\n"
     ]
    }
   ],
   "source": [
    "results_filtered['incident_date'] = results_filtered['incident_date'].astype('datetime64[ns]')"
   ]
  },
  {
   "cell_type": "code",
   "execution_count": 35,
   "id": "d02eccfb-bcae-40a4-a07d-398e39cb093d",
   "metadata": {
    "collapsed": true,
    "jupyter": {
     "outputs_hidden": true
    },
    "tags": []
   },
   "outputs": [
    {
     "ename": "TypeError",
     "evalue": "<class 'datetime.time'> is not convertible to datetime, at position 0",
     "output_type": "error",
     "traceback": [
      "\u001b[0;31m---------------------------------------------------------------------------\u001b[0m",
      "\u001b[0;31mTypeError\u001b[0m                                 Traceback (most recent call last)",
      "Cell \u001b[0;32mIn[35], line 1\u001b[0m\n\u001b[0;32m----> 1\u001b[0m results_filtered[\u001b[38;5;124m'\u001b[39m\u001b[38;5;124mincident_time\u001b[39m\u001b[38;5;124m'\u001b[39m] \u001b[38;5;241m=\u001b[39m \u001b[43mpd\u001b[49m\u001b[38;5;241;43m.\u001b[39;49m\u001b[43mto_datetime\u001b[49m\u001b[43m(\u001b[49m\u001b[43mresults_filtered\u001b[49m\u001b[43m[\u001b[49m\u001b[38;5;124;43m'\u001b[39;49m\u001b[38;5;124;43mincident_time\u001b[39;49m\u001b[38;5;124;43m'\u001b[39;49m\u001b[43m]\u001b[49m\u001b[43m)\u001b[49m\u001b[38;5;241m.\u001b[39mdt\u001b[38;5;241m.\u001b[39mtime\n",
      "File \u001b[0;32m~/miniconda3/lib/python3.9/site-packages/pandas/core/tools/datetimes.py:1050\u001b[0m, in \u001b[0;36mto_datetime\u001b[0;34m(arg, errors, dayfirst, yearfirst, utc, format, exact, unit, infer_datetime_format, origin, cache)\u001b[0m\n\u001b[1;32m   1048\u001b[0m         result \u001b[38;5;241m=\u001b[39m arg\u001b[38;5;241m.\u001b[39mmap(cache_array)\n\u001b[1;32m   1049\u001b[0m     \u001b[38;5;28;01melse\u001b[39;00m:\n\u001b[0;32m-> 1050\u001b[0m         values \u001b[38;5;241m=\u001b[39m \u001b[43mconvert_listlike\u001b[49m\u001b[43m(\u001b[49m\u001b[43marg\u001b[49m\u001b[38;5;241;43m.\u001b[39;49m\u001b[43m_values\u001b[49m\u001b[43m,\u001b[49m\u001b[43m \u001b[49m\u001b[38;5;28;43mformat\u001b[39;49m\u001b[43m)\u001b[49m\n\u001b[1;32m   1051\u001b[0m         result \u001b[38;5;241m=\u001b[39m arg\u001b[38;5;241m.\u001b[39m_constructor(values, index\u001b[38;5;241m=\u001b[39marg\u001b[38;5;241m.\u001b[39mindex, name\u001b[38;5;241m=\u001b[39marg\u001b[38;5;241m.\u001b[39mname)\n\u001b[1;32m   1052\u001b[0m \u001b[38;5;28;01melif\u001b[39;00m \u001b[38;5;28misinstance\u001b[39m(arg, (ABCDataFrame, abc\u001b[38;5;241m.\u001b[39mMutableMapping)):\n",
      "File \u001b[0;32m~/miniconda3/lib/python3.9/site-packages/pandas/core/tools/datetimes.py:455\u001b[0m, in \u001b[0;36m_convert_listlike_datetimes\u001b[0;34m(arg, format, name, utc, unit, errors, dayfirst, yearfirst, exact)\u001b[0m\n\u001b[1;32m    452\u001b[0m \u001b[38;5;28;01mif\u001b[39;00m \u001b[38;5;28mformat\u001b[39m \u001b[38;5;129;01mis\u001b[39;00m \u001b[38;5;129;01mnot\u001b[39;00m \u001b[38;5;28;01mNone\u001b[39;00m \u001b[38;5;129;01mand\u001b[39;00m \u001b[38;5;28mformat\u001b[39m \u001b[38;5;241m!=\u001b[39m \u001b[38;5;124m\"\u001b[39m\u001b[38;5;124mmixed\u001b[39m\u001b[38;5;124m\"\u001b[39m:\n\u001b[1;32m    453\u001b[0m     \u001b[38;5;28;01mreturn\u001b[39;00m _array_strptime_with_fallback(arg, name, utc, \u001b[38;5;28mformat\u001b[39m, exact, errors)\n\u001b[0;32m--> 455\u001b[0m result, tz_parsed \u001b[38;5;241m=\u001b[39m \u001b[43mobjects_to_datetime64ns\u001b[49m\u001b[43m(\u001b[49m\n\u001b[1;32m    456\u001b[0m \u001b[43m    \u001b[49m\u001b[43marg\u001b[49m\u001b[43m,\u001b[49m\n\u001b[1;32m    457\u001b[0m \u001b[43m    \u001b[49m\u001b[43mdayfirst\u001b[49m\u001b[38;5;241;43m=\u001b[39;49m\u001b[43mdayfirst\u001b[49m\u001b[43m,\u001b[49m\n\u001b[1;32m    458\u001b[0m \u001b[43m    \u001b[49m\u001b[43myearfirst\u001b[49m\u001b[38;5;241;43m=\u001b[39;49m\u001b[43myearfirst\u001b[49m\u001b[43m,\u001b[49m\n\u001b[1;32m    459\u001b[0m \u001b[43m    \u001b[49m\u001b[43mutc\u001b[49m\u001b[38;5;241;43m=\u001b[39;49m\u001b[43mutc\u001b[49m\u001b[43m,\u001b[49m\n\u001b[1;32m    460\u001b[0m \u001b[43m    \u001b[49m\u001b[43merrors\u001b[49m\u001b[38;5;241;43m=\u001b[39;49m\u001b[43merrors\u001b[49m\u001b[43m,\u001b[49m\n\u001b[1;32m    461\u001b[0m \u001b[43m    \u001b[49m\u001b[43mallow_object\u001b[49m\u001b[38;5;241;43m=\u001b[39;49m\u001b[38;5;28;43;01mTrue\u001b[39;49;00m\u001b[43m,\u001b[49m\n\u001b[1;32m    462\u001b[0m \u001b[43m\u001b[49m\u001b[43m)\u001b[49m\n\u001b[1;32m    464\u001b[0m \u001b[38;5;28;01mif\u001b[39;00m tz_parsed \u001b[38;5;129;01mis\u001b[39;00m \u001b[38;5;129;01mnot\u001b[39;00m \u001b[38;5;28;01mNone\u001b[39;00m:\n\u001b[1;32m    465\u001b[0m     \u001b[38;5;66;03m# We can take a shortcut since the datetime64 numpy array\u001b[39;00m\n\u001b[1;32m    466\u001b[0m     \u001b[38;5;66;03m# is in UTC\u001b[39;00m\n\u001b[1;32m    467\u001b[0m     dta \u001b[38;5;241m=\u001b[39m DatetimeArray(result, dtype\u001b[38;5;241m=\u001b[39mtz_to_dtype(tz_parsed))\n",
      "File \u001b[0;32m~/miniconda3/lib/python3.9/site-packages/pandas/core/arrays/datetimes.py:2177\u001b[0m, in \u001b[0;36mobjects_to_datetime64ns\u001b[0;34m(data, dayfirst, yearfirst, utc, errors, allow_object)\u001b[0m\n\u001b[1;32m   2174\u001b[0m \u001b[38;5;66;03m# if str-dtype, convert\u001b[39;00m\n\u001b[1;32m   2175\u001b[0m data \u001b[38;5;241m=\u001b[39m np\u001b[38;5;241m.\u001b[39marray(data, copy\u001b[38;5;241m=\u001b[39m\u001b[38;5;28;01mFalse\u001b[39;00m, dtype\u001b[38;5;241m=\u001b[39mnp\u001b[38;5;241m.\u001b[39mobject_)\n\u001b[0;32m-> 2177\u001b[0m result, tz_parsed \u001b[38;5;241m=\u001b[39m \u001b[43mtslib\u001b[49m\u001b[38;5;241;43m.\u001b[39;49m\u001b[43marray_to_datetime\u001b[49m\u001b[43m(\u001b[49m\n\u001b[1;32m   2178\u001b[0m \u001b[43m    \u001b[49m\u001b[43mdata\u001b[49m\u001b[43m,\u001b[49m\n\u001b[1;32m   2179\u001b[0m \u001b[43m    \u001b[49m\u001b[43merrors\u001b[49m\u001b[38;5;241;43m=\u001b[39;49m\u001b[43merrors\u001b[49m\u001b[43m,\u001b[49m\n\u001b[1;32m   2180\u001b[0m \u001b[43m    \u001b[49m\u001b[43mutc\u001b[49m\u001b[38;5;241;43m=\u001b[39;49m\u001b[43mutc\u001b[49m\u001b[43m,\u001b[49m\n\u001b[1;32m   2181\u001b[0m \u001b[43m    \u001b[49m\u001b[43mdayfirst\u001b[49m\u001b[38;5;241;43m=\u001b[39;49m\u001b[43mdayfirst\u001b[49m\u001b[43m,\u001b[49m\n\u001b[1;32m   2182\u001b[0m \u001b[43m    \u001b[49m\u001b[43myearfirst\u001b[49m\u001b[38;5;241;43m=\u001b[39;49m\u001b[43myearfirst\u001b[49m\u001b[43m,\u001b[49m\n\u001b[1;32m   2183\u001b[0m \u001b[43m\u001b[49m\u001b[43m)\u001b[49m\n\u001b[1;32m   2185\u001b[0m \u001b[38;5;28;01mif\u001b[39;00m tz_parsed \u001b[38;5;129;01mis\u001b[39;00m \u001b[38;5;129;01mnot\u001b[39;00m \u001b[38;5;28;01mNone\u001b[39;00m:\n\u001b[1;32m   2186\u001b[0m     \u001b[38;5;66;03m# We can take a shortcut since the datetime64 numpy array\u001b[39;00m\n\u001b[1;32m   2187\u001b[0m     \u001b[38;5;66;03m#  is in UTC\u001b[39;00m\n\u001b[1;32m   2188\u001b[0m     \u001b[38;5;66;03m# Return i8 values to denote unix timestamps\u001b[39;00m\n\u001b[1;32m   2189\u001b[0m     \u001b[38;5;28;01mreturn\u001b[39;00m result\u001b[38;5;241m.\u001b[39mview(\u001b[38;5;124m\"\u001b[39m\u001b[38;5;124mi8\u001b[39m\u001b[38;5;124m\"\u001b[39m), tz_parsed\n",
      "File \u001b[0;32m~/miniconda3/lib/python3.9/site-packages/pandas/_libs/tslib.pyx:402\u001b[0m, in \u001b[0;36mpandas._libs.tslib.array_to_datetime\u001b[0;34m()\u001b[0m\n",
      "File \u001b[0;32m~/miniconda3/lib/python3.9/site-packages/pandas/_libs/tslib.pyx:551\u001b[0m, in \u001b[0;36mpandas._libs.tslib.array_to_datetime\u001b[0;34m()\u001b[0m\n",
      "File \u001b[0;32m~/miniconda3/lib/python3.9/site-packages/pandas/_libs/tslib.pyx:540\u001b[0m, in \u001b[0;36mpandas._libs.tslib.array_to_datetime\u001b[0;34m()\u001b[0m\n",
      "\u001b[0;31mTypeError\u001b[0m: <class 'datetime.time'> is not convertible to datetime, at position 0"
     ]
    }
   ],
   "source": [
    "results_filtered['incident_time'] = pd.to_datetime(results_filtered['incident_time']).dt.time"
   ]
  },
  {
   "cell_type": "code",
   "execution_count": 40,
   "id": "82580956-cc53-403a-b80c-9a1d37bc64b2",
   "metadata": {},
   "outputs": [
    {
     "name": "stderr",
     "output_type": "stream",
     "text": [
      "/tmp/ipykernel_11518/762521036.py:1: SettingWithCopyWarning: \n",
      "A value is trying to be set on a copy of a slice from a DataFrame.\n",
      "Try using .loc[row_indexer,col_indexer] = value instead\n",
      "\n",
      "See the caveats in the documentation: https://pandas.pydata.org/pandas-docs/stable/user_guide/indexing.html#returning-a-view-versus-a-copy\n",
      "  results_filtered['incident_year'] = results_filtered['incident_year'].astype(int)\n"
     ]
    }
   ],
   "source": [
    "results_filtered['incident_year'] = results_filtered['incident_year'].astype(int) "
   ]
  },
  {
   "cell_type": "code",
   "execution_count": 43,
   "id": "e23d2328-64c7-4a5f-bec5-7b27970cfa25",
   "metadata": {},
   "outputs": [],
   "source": [
    "results_filtered.to_parquet('test.parquet')"
   ]
  },
  {
   "cell_type": "code",
   "execution_count": 44,
   "id": "f907229a-f7a9-469a-8864-3c8d7739c797",
   "metadata": {
    "tags": []
   },
   "outputs": [],
   "source": [
    "par_df = pd.read_parquet('test.parquet')"
   ]
  },
  {
   "cell_type": "code",
   "execution_count": 47,
   "id": "d6b7d9ff-a399-4d64-abf1-9fbd11819eac",
   "metadata": {
    "tags": []
   },
   "outputs": [
    {
     "data": {
      "text/plain": [
       "incident_datetime              datetime64[ns]\n",
       "incident_date                  datetime64[ns]\n",
       "incident_time                          object\n",
       "incident_year                           int64\n",
       "incident_day_of_week                   object\n",
       "report_datetime                        object\n",
       "row_id                                 object\n",
       "incident_id                            object\n",
       "incident_number                        object\n",
       "report_type_code                       object\n",
       "report_type_description                object\n",
       "incident_code                          object\n",
       "incident_category                      object\n",
       "incident_subcategory                   object\n",
       "incident_description                   object\n",
       "resolution                             object\n",
       "police_district                        object\n",
       "filed_online                           object\n",
       "cad_number                             object\n",
       "intersection                           object\n",
       "cnn                                    object\n",
       "analysis_neighborhood                  object\n",
       "supervisor_district                    object\n",
       "supervisor_district_2012               object\n",
       "latitude                               object\n",
       "longitude                              object\n",
       "point                                  object\n",
       ":@computed_region_26cr_cadq            object\n",
       ":@computed_region_qgnn_b9vv            object\n",
       ":@computed_region_jwn9_ihcz            object\n",
       ":@computed_region_h4ep_8xdi            object\n",
       ":@computed_region_nqbw_i6c3            object\n",
       ":@computed_region_n4xg_c4py            object\n",
       "dtype: object"
      ]
     },
     "execution_count": 47,
     "metadata": {},
     "output_type": "execute_result"
    }
   ],
   "source": [
    "par_df.dtypes"
   ]
  }
 ],
 "metadata": {
  "kernelspec": {
   "display_name": "Python 3 (ipykernel)",
   "language": "python",
   "name": "python3"
  },
  "language_info": {
   "codemirror_mode": {
    "name": "ipython",
    "version": 3
   },
   "file_extension": ".py",
   "mimetype": "text/x-python",
   "name": "python",
   "nbconvert_exporter": "python",
   "pygments_lexer": "ipython3",
   "version": "3.9.16"
  }
 },
 "nbformat": 4,
 "nbformat_minor": 5
}
